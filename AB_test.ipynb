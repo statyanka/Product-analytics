{
  "nbformat": 4,
  "nbformat_minor": 0,
  "metadata": {
    "colab": {
      "name": "AB test.ipynb",
      "provenance": [],
      "collapsed_sections": [],
      "authorship_tag": "ABX9TyPT9uXibo+Km0E9IeXlfsAP",
      "include_colab_link": true
    },
    "kernelspec": {
      "name": "python3",
      "display_name": "Python 3"
    }
  },
  "cells": [
    {
      "cell_type": "markdown",
      "metadata": {
        "id": "view-in-github",
        "colab_type": "text"
      },
      "source": [
        "<a href=\"https://colab.research.google.com/github/statyanka/Product-analytics/blob/main/AB_test.ipynb\" target=\"_parent\"><img src=\"https://colab.research.google.com/assets/colab-badge.svg\" alt=\"Open In Colab\"/></a>"
      ]
    },
    {
      "cell_type": "markdown",
      "metadata": {
        "id": "4qltGNP9JBUT"
      },
      "source": [
        "## Введение"
      ]
    },
    {
      "cell_type": "code",
      "metadata": {
        "id": "tlYSILyIoCDL",
        "colab": {
          "base_uri": "https://localhost:8080/"
        },
        "outputId": "ebb419d5-454a-438c-aa9d-baa744fd4b64"
      },
      "source": [
        "import pandas as pd\n",
        "import numpy as np\n",
        "import matplotlib.pyplot as plt\n",
        "import seaborn as sns\n",
        "from scipy.stats import levene\n",
        "from scipy.stats import kstest\n",
        "from scipy.stats import mannwhitneyu\n",
        "from scipy.stats import kruskal\n",
        "from scipy.stats import shapiro\n",
        "from scipy.stats import f_oneway\n",
        "from scipy.stats import ttest_ind\n",
        "from statsmodels.stats.power import TTestIndPower"
      ],
      "execution_count": null,
      "outputs": [
        {
          "output_type": "stream",
          "text": [
            "/usr/local/lib/python3.6/dist-packages/statsmodels/tools/_testing.py:19: FutureWarning: pandas.util.testing is deprecated. Use the functions in the public API at pandas.testing instead.\n",
            "  import pandas.util.testing as tm\n"
          ],
          "name": "stderr"
        }
      ]
    },
    {
      "cell_type": "markdown",
      "metadata": {
        "id": "HDcsmFycIogk"
      },
      "source": [
        "Читаем данные и выводим их часть на экран:"
      ]
    },
    {
      "cell_type": "code",
      "metadata": {
        "colab": {
          "base_uri": "https://localhost:8080/",
          "height": 195
        },
        "id": "IfmrSeEHo_rV",
        "outputId": "bb56b8b5-1bb2-4a61-a94d-94d408cd94ce"
      },
      "source": [
        "df_byuser = pd.read_csv('/content/hw_abt_2_byuser.csv', sep='\\t')\n",
        "df_byuser.head()"
      ],
      "execution_count": null,
      "outputs": [
        {
          "output_type": "execute_result",
          "data": {
            "text/html": [
              "<div>\n",
              "<style scoped>\n",
              "    .dataframe tbody tr th:only-of-type {\n",
              "        vertical-align: middle;\n",
              "    }\n",
              "\n",
              "    .dataframe tbody tr th {\n",
              "        vertical-align: top;\n",
              "    }\n",
              "\n",
              "    .dataframe thead th {\n",
              "        text-align: right;\n",
              "    }\n",
              "</style>\n",
              "<table border=\"1\" class=\"dataframe\">\n",
              "  <thead>\n",
              "    <tr style=\"text-align: right;\">\n",
              "      <th></th>\n",
              "      <th>Unnamed: 0</th>\n",
              "      <th>group_id</th>\n",
              "      <th>metric_value</th>\n",
              "      <th>users</th>\n",
              "      <th>visits</th>\n",
              "      <th>churn_users</th>\n",
              "      <th>churn_visits</th>\n",
              "      <th>group</th>\n",
              "    </tr>\n",
              "  </thead>\n",
              "  <tbody>\n",
              "    <tr>\n",
              "      <th>0</th>\n",
              "      <td>0</td>\n",
              "      <td>8</td>\n",
              "      <td>6630.000</td>\n",
              "      <td>0</td>\n",
              "      <td>0</td>\n",
              "      <td>0</td>\n",
              "      <td>8</td>\n",
              "      <td>A</td>\n",
              "    </tr>\n",
              "    <tr>\n",
              "      <th>1</th>\n",
              "      <td>1</td>\n",
              "      <td>13</td>\n",
              "      <td>6933.976</td>\n",
              "      <td>0</td>\n",
              "      <td>0</td>\n",
              "      <td>1</td>\n",
              "      <td>6</td>\n",
              "      <td>B</td>\n",
              "    </tr>\n",
              "    <tr>\n",
              "      <th>2</th>\n",
              "      <td>2</td>\n",
              "      <td>10</td>\n",
              "      <td>8261.976</td>\n",
              "      <td>1</td>\n",
              "      <td>10</td>\n",
              "      <td>1</td>\n",
              "      <td>8</td>\n",
              "      <td>B</td>\n",
              "    </tr>\n",
              "    <tr>\n",
              "      <th>3</th>\n",
              "      <td>3</td>\n",
              "      <td>4</td>\n",
              "      <td>5522.000</td>\n",
              "      <td>1</td>\n",
              "      <td>9</td>\n",
              "      <td>1</td>\n",
              "      <td>7</td>\n",
              "      <td>A</td>\n",
              "    </tr>\n",
              "    <tr>\n",
              "      <th>4</th>\n",
              "      <td>4</td>\n",
              "      <td>16</td>\n",
              "      <td>5075.976</td>\n",
              "      <td>1</td>\n",
              "      <td>6</td>\n",
              "      <td>0</td>\n",
              "      <td>8</td>\n",
              "      <td>B</td>\n",
              "    </tr>\n",
              "  </tbody>\n",
              "</table>\n",
              "</div>"
            ],
            "text/plain": [
              "   Unnamed: 0  group_id  metric_value  ...  churn_users  churn_visits  group\n",
              "0           0         8      6630.000  ...            0             8      A\n",
              "1           1        13      6933.976  ...            1             6      B\n",
              "2           2        10      8261.976  ...            1             8      B\n",
              "3           3         4      5522.000  ...            1             7      A\n",
              "4           4        16      5075.976  ...            0             8      B\n",
              "\n",
              "[5 rows x 8 columns]"
            ]
          },
          "metadata": {
            "tags": []
          },
          "execution_count": 3
        }
      ]
    },
    {
      "cell_type": "code",
      "metadata": {
        "colab": {
          "base_uri": "https://localhost:8080/",
          "height": 521
        },
        "id": "M0lilLD5pwkK",
        "outputId": "258b319d-f2fb-4b05-bbba-110e3e31116d"
      },
      "source": [
        "df_bybucket = pd.read_csv('/content/hw_abt_2_bybucket.csv', sep='\\t')\n",
        "df_bybucket.head()"
      ],
      "execution_count": null,
      "outputs": [
        {
          "output_type": "execute_result",
          "data": {
            "text/html": [
              "<div>\n",
              "<style scoped>\n",
              "    .dataframe tbody tr th:only-of-type {\n",
              "        vertical-align: middle;\n",
              "    }\n",
              "\n",
              "    .dataframe tbody tr th {\n",
              "        vertical-align: top;\n",
              "    }\n",
              "\n",
              "    .dataframe thead th {\n",
              "        text-align: right;\n",
              "    }\n",
              "</style>\n",
              "<table border=\"1\" class=\"dataframe\">\n",
              "  <thead>\n",
              "    <tr style=\"text-align: right;\">\n",
              "      <th></th>\n",
              "      <th>group_id</th>\n",
              "      <th>metric_value</th>\n",
              "      <th>users</th>\n",
              "      <th>visits</th>\n",
              "      <th>churn_users</th>\n",
              "      <th>churn_visits</th>\n",
              "    </tr>\n",
              "  </thead>\n",
              "  <tbody>\n",
              "    <tr>\n",
              "      <th>0</th>\n",
              "      <td>1</td>\n",
              "      <td>1875345.000</td>\n",
              "      <td>155</td>\n",
              "      <td>1419</td>\n",
              "      <td>151</td>\n",
              "      <td>2207</td>\n",
              "    </tr>\n",
              "    <tr>\n",
              "      <th>1</th>\n",
              "      <td>2</td>\n",
              "      <td>1662237.000</td>\n",
              "      <td>138</td>\n",
              "      <td>1320</td>\n",
              "      <td>127</td>\n",
              "      <td>1853</td>\n",
              "    </tr>\n",
              "    <tr>\n",
              "      <th>2</th>\n",
              "      <td>3</td>\n",
              "      <td>1784372.000</td>\n",
              "      <td>128</td>\n",
              "      <td>1281</td>\n",
              "      <td>159</td>\n",
              "      <td>2032</td>\n",
              "    </tr>\n",
              "    <tr>\n",
              "      <th>3</th>\n",
              "      <td>4</td>\n",
              "      <td>1876826.000</td>\n",
              "      <td>163</td>\n",
              "      <td>1644</td>\n",
              "      <td>168</td>\n",
              "      <td>2172</td>\n",
              "    </tr>\n",
              "    <tr>\n",
              "      <th>4</th>\n",
              "      <td>5</td>\n",
              "      <td>1913180.000</td>\n",
              "      <td>156</td>\n",
              "      <td>1675</td>\n",
              "      <td>174</td>\n",
              "      <td>2273</td>\n",
              "    </tr>\n",
              "    <tr>\n",
              "      <th>5</th>\n",
              "      <td>6</td>\n",
              "      <td>1733079.000</td>\n",
              "      <td>144</td>\n",
              "      <td>1509</td>\n",
              "      <td>141</td>\n",
              "      <td>2009</td>\n",
              "    </tr>\n",
              "    <tr>\n",
              "      <th>6</th>\n",
              "      <td>7</td>\n",
              "      <td>1864555.000</td>\n",
              "      <td>151</td>\n",
              "      <td>1481</td>\n",
              "      <td>161</td>\n",
              "      <td>2139</td>\n",
              "    </tr>\n",
              "    <tr>\n",
              "      <th>7</th>\n",
              "      <td>8</td>\n",
              "      <td>2029143.000</td>\n",
              "      <td>162</td>\n",
              "      <td>1533</td>\n",
              "      <td>153</td>\n",
              "      <td>2299</td>\n",
              "    </tr>\n",
              "    <tr>\n",
              "      <th>8</th>\n",
              "      <td>9</td>\n",
              "      <td>2047289.536</td>\n",
              "      <td>143</td>\n",
              "      <td>1424</td>\n",
              "      <td>242</td>\n",
              "      <td>2191</td>\n",
              "    </tr>\n",
              "    <tr>\n",
              "      <th>9</th>\n",
              "      <td>10</td>\n",
              "      <td>2228154.648</td>\n",
              "      <td>179</td>\n",
              "      <td>1803</td>\n",
              "      <td>265</td>\n",
              "      <td>2518</td>\n",
              "    </tr>\n",
              "    <tr>\n",
              "      <th>10</th>\n",
              "      <td>11</td>\n",
              "      <td>1876015.920</td>\n",
              "      <td>150</td>\n",
              "      <td>1448</td>\n",
              "      <td>226</td>\n",
              "      <td>2062</td>\n",
              "    </tr>\n",
              "    <tr>\n",
              "      <th>11</th>\n",
              "      <td>12</td>\n",
              "      <td>2102859.224</td>\n",
              "      <td>149</td>\n",
              "      <td>1339</td>\n",
              "      <td>261</td>\n",
              "      <td>2257</td>\n",
              "    </tr>\n",
              "    <tr>\n",
              "      <th>12</th>\n",
              "      <td>13</td>\n",
              "      <td>2079287.344</td>\n",
              "      <td>155</td>\n",
              "      <td>1240</td>\n",
              "      <td>257</td>\n",
              "      <td>2248</td>\n",
              "    </tr>\n",
              "    <tr>\n",
              "      <th>13</th>\n",
              "      <td>14</td>\n",
              "      <td>2127954.032</td>\n",
              "      <td>166</td>\n",
              "      <td>1397</td>\n",
              "      <td>256</td>\n",
              "      <td>2215</td>\n",
              "    </tr>\n",
              "    <tr>\n",
              "      <th>14</th>\n",
              "      <td>15</td>\n",
              "      <td>1887384.920</td>\n",
              "      <td>161</td>\n",
              "      <td>1488</td>\n",
              "      <td>224</td>\n",
              "      <td>2015</td>\n",
              "    </tr>\n",
              "    <tr>\n",
              "      <th>15</th>\n",
              "      <td>16</td>\n",
              "      <td>2082370.200</td>\n",
              "      <td>159</td>\n",
              "      <td>1469</td>\n",
              "      <td>273</td>\n",
              "      <td>2287</td>\n",
              "    </tr>\n",
              "  </tbody>\n",
              "</table>\n",
              "</div>"
            ],
            "text/plain": [
              "    group_id  metric_value  users  visits  churn_users  churn_visits\n",
              "0          1   1875345.000    155    1419          151          2207\n",
              "1          2   1662237.000    138    1320          127          1853\n",
              "2          3   1784372.000    128    1281          159          2032\n",
              "3          4   1876826.000    163    1644          168          2172\n",
              "4          5   1913180.000    156    1675          174          2273\n",
              "5          6   1733079.000    144    1509          141          2009\n",
              "6          7   1864555.000    151    1481          161          2139\n",
              "7          8   2029143.000    162    1533          153          2299\n",
              "8          9   2047289.536    143    1424          242          2191\n",
              "9         10   2228154.648    179    1803          265          2518\n",
              "10        11   1876015.920    150    1448          226          2062\n",
              "11        12   2102859.224    149    1339          261          2257\n",
              "12        13   2079287.344    155    1240          257          2248\n",
              "13        14   2127954.032    166    1397          256          2215\n",
              "14        15   1887384.920    161    1488          224          2015\n",
              "15        16   2082370.200    159    1469          273          2287"
            ]
          },
          "metadata": {
            "tags": []
          },
          "execution_count": 14
        }
      ]
    },
    {
      "cell_type": "markdown",
      "metadata": {
        "id": "Ftf0DH4HIbmG"
      },
      "source": [
        "В данных присутствует некоторая неоднозначность, для пользователей, совершивших целевое действие, количество целевых сессий равно нулю."
      ]
    },
    {
      "cell_type": "code",
      "metadata": {
        "colab": {
          "base_uri": "https://localhost:8080/",
          "height": 402
        },
        "id": "iD3ckPFHUsos",
        "outputId": "5580a779-a15c-4511-80ba-d914d083a78f"
      },
      "source": [
        "df_byuser.query('visits==0 & users==1')"
      ],
      "execution_count": null,
      "outputs": [
        {
          "output_type": "execute_result",
          "data": {
            "text/html": [
              "<div>\n",
              "<style scoped>\n",
              "    .dataframe tbody tr th:only-of-type {\n",
              "        vertical-align: middle;\n",
              "    }\n",
              "\n",
              "    .dataframe tbody tr th {\n",
              "        vertical-align: top;\n",
              "    }\n",
              "\n",
              "    .dataframe thead th {\n",
              "        text-align: right;\n",
              "    }\n",
              "</style>\n",
              "<table border=\"1\" class=\"dataframe\">\n",
              "  <thead>\n",
              "    <tr style=\"text-align: right;\">\n",
              "      <th></th>\n",
              "      <th>Unnamed: 0</th>\n",
              "      <th>group_id</th>\n",
              "      <th>metric_value</th>\n",
              "      <th>users</th>\n",
              "      <th>visits</th>\n",
              "      <th>churn_users</th>\n",
              "      <th>churn_visits</th>\n",
              "      <th>group</th>\n",
              "    </tr>\n",
              "  </thead>\n",
              "  <tbody>\n",
              "    <tr>\n",
              "      <th>27</th>\n",
              "      <td>27</td>\n",
              "      <td>15</td>\n",
              "      <td>5181.976</td>\n",
              "      <td>1</td>\n",
              "      <td>0</td>\n",
              "      <td>0</td>\n",
              "      <td>9</td>\n",
              "      <td>B</td>\n",
              "    </tr>\n",
              "    <tr>\n",
              "      <th>53</th>\n",
              "      <td>53</td>\n",
              "      <td>2</td>\n",
              "      <td>5989.000</td>\n",
              "      <td>1</td>\n",
              "      <td>0</td>\n",
              "      <td>1</td>\n",
              "      <td>6</td>\n",
              "      <td>A</td>\n",
              "    </tr>\n",
              "    <tr>\n",
              "      <th>71</th>\n",
              "      <td>71</td>\n",
              "      <td>8</td>\n",
              "      <td>8102.000</td>\n",
              "      <td>1</td>\n",
              "      <td>0</td>\n",
              "      <td>0</td>\n",
              "      <td>5</td>\n",
              "      <td>A</td>\n",
              "    </tr>\n",
              "    <tr>\n",
              "      <th>89</th>\n",
              "      <td>89</td>\n",
              "      <td>16</td>\n",
              "      <td>7727.976</td>\n",
              "      <td>1</td>\n",
              "      <td>0</td>\n",
              "      <td>1</td>\n",
              "      <td>5</td>\n",
              "      <td>B</td>\n",
              "    </tr>\n",
              "    <tr>\n",
              "      <th>161</th>\n",
              "      <td>161</td>\n",
              "      <td>5</td>\n",
              "      <td>8057.000</td>\n",
              "      <td>1</td>\n",
              "      <td>0</td>\n",
              "      <td>0</td>\n",
              "      <td>6</td>\n",
              "      <td>A</td>\n",
              "    </tr>\n",
              "    <tr>\n",
              "      <th>...</th>\n",
              "      <td>...</td>\n",
              "      <td>...</td>\n",
              "      <td>...</td>\n",
              "      <td>...</td>\n",
              "      <td>...</td>\n",
              "      <td>...</td>\n",
              "      <td>...</td>\n",
              "      <td>...</td>\n",
              "    </tr>\n",
              "    <tr>\n",
              "      <th>4915</th>\n",
              "      <td>4915</td>\n",
              "      <td>8</td>\n",
              "      <td>7650.000</td>\n",
              "      <td>1</td>\n",
              "      <td>0</td>\n",
              "      <td>1</td>\n",
              "      <td>7</td>\n",
              "      <td>A</td>\n",
              "    </tr>\n",
              "    <tr>\n",
              "      <th>4924</th>\n",
              "      <td>4924</td>\n",
              "      <td>8</td>\n",
              "      <td>5538.000</td>\n",
              "      <td>1</td>\n",
              "      <td>0</td>\n",
              "      <td>0</td>\n",
              "      <td>9</td>\n",
              "      <td>A</td>\n",
              "    </tr>\n",
              "    <tr>\n",
              "      <th>4960</th>\n",
              "      <td>4960</td>\n",
              "      <td>11</td>\n",
              "      <td>7034.976</td>\n",
              "      <td>1</td>\n",
              "      <td>0</td>\n",
              "      <td>1</td>\n",
              "      <td>7</td>\n",
              "      <td>B</td>\n",
              "    </tr>\n",
              "    <tr>\n",
              "      <th>4968</th>\n",
              "      <td>4968</td>\n",
              "      <td>2</td>\n",
              "      <td>7295.000</td>\n",
              "      <td>1</td>\n",
              "      <td>0</td>\n",
              "      <td>0</td>\n",
              "      <td>9</td>\n",
              "      <td>A</td>\n",
              "    </tr>\n",
              "    <tr>\n",
              "      <th>4972</th>\n",
              "      <td>4972</td>\n",
              "      <td>7</td>\n",
              "      <td>7320.000</td>\n",
              "      <td>1</td>\n",
              "      <td>0</td>\n",
              "      <td>1</td>\n",
              "      <td>2</td>\n",
              "      <td>A</td>\n",
              "    </tr>\n",
              "  </tbody>\n",
              "</table>\n",
              "<p>217 rows × 8 columns</p>\n",
              "</div>"
            ],
            "text/plain": [
              "      Unnamed: 0  group_id  metric_value  ...  churn_users  churn_visits  group\n",
              "27            27        15      5181.976  ...            0             9      B\n",
              "53            53         2      5989.000  ...            1             6      A\n",
              "71            71         8      8102.000  ...            0             5      A\n",
              "89            89        16      7727.976  ...            1             5      B\n",
              "161          161         5      8057.000  ...            0             6      A\n",
              "...          ...       ...           ...  ...          ...           ...    ...\n",
              "4915        4915         8      7650.000  ...            1             7      A\n",
              "4924        4924         8      5538.000  ...            0             9      A\n",
              "4960        4960        11      7034.976  ...            1             7      B\n",
              "4968        4968         2      7295.000  ...            0             9      A\n",
              "4972        4972         7      7320.000  ...            1             2      A\n",
              "\n",
              "[217 rows x 8 columns]"
            ]
          },
          "metadata": {
            "tags": []
          },
          "execution_count": 5
        }
      ]
    },
    {
      "cell_type": "code",
      "metadata": {
        "colab": {
          "base_uri": "https://localhost:8080/"
        },
        "id": "IFZteB12VOFf",
        "outputId": "3d9c96c4-8aa7-445a-9612-7e565c7fbdc3"
      },
      "source": [
        "df_byuser['visits'].median()"
      ],
      "execution_count": null,
      "outputs": [
        {
          "output_type": "execute_result",
          "data": {
            "text/plain": [
              "0.0"
            ]
          },
          "metadata": {
            "tags": []
          },
          "execution_count": 6
        }
      ]
    },
    {
      "cell_type": "markdown",
      "metadata": {
        "id": "pkQ17xOtWnZt"
      },
      "source": [
        "При работе с пропусками в данных можно заменить значения на медианные, которые в данном случае совпадают с вводными, поэтому я решила ничего не менять в предложенной структуре."
      ]
    },
    {
      "cell_type": "markdown",
      "metadata": {
        "id": "NwXJzArobujU"
      },
      "source": [
        "## Проведем исследование распределений целевых метрик в группах A и B. "
      ]
    },
    {
      "cell_type": "markdown",
      "metadata": {
        "id": "t_obWVKgzATh"
      },
      "source": [
        "Воспользуемся методом Левена, так как он менее чувствителен к отклонению распределения от нормального (а изначально распределение не предполагаем нормальным). "
      ]
    },
    {
      "cell_type": "code",
      "metadata": {
        "colab": {
          "base_uri": "https://localhost:8080/"
        },
        "id": "MEMBLYgrXMUA",
        "outputId": "75d7e9d9-6e7e-405b-8862-c2da79caed6f"
      },
      "source": [
        "alpha = 0.05\n",
        "\n",
        "def levene_test(df1, df2, p_value = alpha):\n",
        "  st = levene(df1, df2)\n",
        "  print('Variances of distributions is {}equal\\n'.format( {True:'not ', False:''}[st[1] < p_value]))\n",
        "\n",
        "series_1 = df_byuser.loc[df_byuser.group == 'A']['metric_value']\n",
        "series_2 = df_byuser.loc[df_byuser.group == 'B']['metric_value']\n",
        "\n",
        "levene_test(series_1, series_2)"
      ],
      "execution_count": null,
      "outputs": [
        {
          "output_type": "stream",
          "text": [
            "Variances of distributions is equal\n",
            "\n"
          ],
          "name": "stdout"
        }
      ]
    },
    {
      "cell_type": "markdown",
      "metadata": {
        "id": "lQN1fdCum_Hr"
      },
      "source": [
        "Далее исследуем распределения на нормальность. Воспользуемся критерием Колмогорова-Смирнова. Это непараметрический критерий согласия, который проверяет соответствие закона распределения заданному, в данном случае нормальному. "
      ]
    },
    {
      "cell_type": "code",
      "metadata": {
        "colab": {
          "base_uri": "https://localhost:8080/"
        },
        "id": "C_fpTFgJhNZP",
        "outputId": "87aad924-4b84-48a6-ce96-0248390e2ea2"
      },
      "source": [
        "st = kstest(pd.Series(series_1), 'norm')\n",
        "print('Distributions A is {}normal\\n'.format( {True:'not ', False:''}[st[1] < alpha]))\n",
        "st = kstest(pd.Series(series_2), 'norm')\n",
        "print('Distributions B is {}normal\\n'.format( {True:'not ', False:''}[st[1] < alpha]))"
      ],
      "execution_count": null,
      "outputs": [
        {
          "output_type": "stream",
          "text": [
            "Distributions A is not normal\n",
            "\n",
            "Distributions B is not normal\n",
            "\n"
          ],
          "name": "stdout"
        }
      ]
    },
    {
      "cell_type": "markdown",
      "metadata": {
        "id": "ZLRMiiobr8qA"
      },
      "source": [
        "Дисперсии выборок равнозначны, однако вид распределений не является нормальным. Поэтому для проверки статистической значимости различий воспользуемся U-критерием Манна-Уитни. Это непараметрический ранговый тест для независимых выборок; у него нет требований нормальности и однородности дисперсий."
      ]
    },
    {
      "cell_type": "code",
      "metadata": {
        "colab": {
          "base_uri": "https://localhost:8080/"
        },
        "id": "w7pWecfBszae",
        "outputId": "5fcd22f1-87d5-41fa-a127-927405fccb8f"
      },
      "source": [
        "st = mannwhitneyu(pd.Series(series_1), pd.Series(series_2))\n",
        "print('Diffs is {}significant\\n'.format( {True:'not ', False:''}[st[1] < alpha]))"
      ],
      "execution_count": null,
      "outputs": [
        {
          "output_type": "stream",
          "text": [
            "Diffs is not significant\n",
            "\n"
          ],
          "name": "stdout"
        }
      ]
    },
    {
      "cell_type": "markdown",
      "metadata": {
        "id": "B9MIP2wE_hq5"
      },
      "source": [
        "Делаем вывод, что нет статистически значимой разницы между этими группами. "
      ]
    },
    {
      "cell_type": "code",
      "metadata": {
        "colab": {
          "base_uri": "https://localhost:8080/"
        },
        "id": "aSFoc8GfD53_",
        "outputId": "951c3694-f91a-4586-ccc5-92e7589212f9"
      },
      "source": [
        "sns.displot(df_byuser, x=\"metric_value\", hue=\"group\", palette='Set1')\n",
        "plt.figure(figsize=(10,5))\n",
        "sns.boxplot(y=\"group\", x=\"metric_value\", hue=\"group\", data = df_byuser , orient=\"h\", palette = 'Set1')"
      ],
      "execution_count": null,
      "outputs": [
        {
          "output_type": "execute_result",
          "data": {
            "text/plain": [
              "<matplotlib.axes._subplots.AxesSubplot at 0x7f41bb85ee48>"
            ]
          },
          "metadata": {
            "tags": []
          },
          "execution_count": 48
        },
        {
          "output_type": "display_data",
          "data": {
            "image/png": "[encoded data removed]",
            "text/plain": [
              "<Figure size 402.875x360 with 1 Axes>"
            ]
          },
          "metadata": {
            "tags": [],
            "needs_background": "light"
          }
        },
        {
          "output_type": "display_data",
          "data": {
            "image/png": "[encoded data removed]",
            "text/plain": [
              "<Figure size 720x360 with 1 Axes>"
            ]
          },
          "metadata": {
            "tags": [],
            "needs_background": "light"
          }
        }
      ]
    },
    {
      "cell_type": "markdown",
      "metadata": {
        "id": "lJNikETg7E2t"
      },
      "source": [
        "## Проведем исследование количества успешных целевых сессий."
      ]
    },
    {
      "cell_type": "markdown",
      "metadata": {
        "id": "aah9Po4N2yPu"
      },
      "source": [
        "Исследуем равнозначность дисперсий с помощью критерия Левена."
      ]
    },
    {
      "cell_type": "code",
      "metadata": {
        "colab": {
          "base_uri": "https://localhost:8080/"
        },
        "id": "Dnl74E8W7TZ5",
        "outputId": "80e27a4b-9b0b-4485-8533-5c188765b4a2"
      },
      "source": [
        "alpha = 0.05\n",
        "\n",
        "def levene_test(df1, df2, p_value = alpha):\n",
        "  st = levene(df1, df2)\n",
        "  print('Variances of distributions is {}equal\\n'.format( {True:'not ', False:''}[st[1] < p_value]))\n",
        "\n",
        "series_1 = df_byuser.loc[df_byuser.group == 'A']['visits']\n",
        "series_2 = df_byuser.loc[df_byuser.group == 'B']['visits']\n",
        "\n",
        "levene_test(series_1, series_2)"
      ],
      "execution_count": null,
      "outputs": [
        {
          "output_type": "stream",
          "text": [
            "Variances of distributions is equal\n",
            "\n"
          ],
          "name": "stdout"
        }
      ]
    },
    {
      "cell_type": "markdown",
      "metadata": {
        "id": "3tzIIzGt27pC"
      },
      "source": [
        "Проверям на нормальность с помощью критерия Колмогорова-Смирнова."
      ]
    },
    {
      "cell_type": "code",
      "metadata": {
        "colab": {
          "base_uri": "https://localhost:8080/"
        },
        "id": "PGIDy3eS7g2_",
        "outputId": "916c80cb-57d2-4646-98a4-2b9a6d4241e0"
      },
      "source": [
        "st = kstest(pd.Series(series_1), 'norm')\n",
        "print('Distributions A is {}normal\\n'.format( {True:'not ', False:''}[st[1] < alpha]))\n",
        "st = kstest(pd.Series(series_2), 'norm')\n",
        "print('Distributions B is {}normal\\n'.format( {True:'not ', False:''}[st[1] < alpha]))"
      ],
      "execution_count": null,
      "outputs": [
        {
          "output_type": "stream",
          "text": [
            "Distributions A is not normal\n",
            "\n",
            "Distributions B is not normal\n",
            "\n"
          ],
          "name": "stdout"
        }
      ]
    },
    {
      "cell_type": "markdown",
      "metadata": {
        "id": "BXD1sz0K3FbJ"
      },
      "source": [
        "В предыдущих случае для оценки статистической значимости различий был использован критерий Манна-Уитни. У него есть ограничение: в выборочных данных не должно быть совпадающих значений (все числа — разные) или таких совпадений должно быть очень мало (до 10). В исследуемая выборке некоторое количество повторяющихся данных. Поэтому воспользуемся критерием Краскела-Уоллиса. Это непараметрический ранговый критерий для проверки независимых выборок."
      ]
    },
    {
      "cell_type": "code",
      "metadata": {
        "colab": {
          "base_uri": "https://localhost:8080/"
        },
        "id": "v6BF2Z3k7lg2",
        "outputId": "64887254-a571-4eda-a0b9-d88cb26f8e17"
      },
      "source": [
        "st = kruskal(pd.Series(series_1), pd.Series(series_2))\n",
        "print('Diffs is {}significant\\n'.format( {True:'not ', False:''}[st[1] < alpha]))"
      ],
      "execution_count": null,
      "outputs": [
        {
          "output_type": "stream",
          "text": [
            "Diffs is significant\n",
            "\n"
          ],
          "name": "stdout"
        }
      ]
    },
    {
      "cell_type": "markdown",
      "metadata": {
        "id": "Ur2CTUNtEFuF"
      },
      "source": [
        "Различия между группами статистически значимы. Посмотрим, как именно:"
      ]
    },
    {
      "cell_type": "code",
      "metadata": {
        "colab": {
          "base_uri": "https://localhost:8080/"
        },
        "id": "3oLEYo8gEENl",
        "outputId": "9641f70e-d219-4d99-a277-44939d971ff0"
      },
      "source": [
        "series_1.describe()"
      ],
      "execution_count": null,
      "outputs": [
        {
          "output_type": "execute_result",
          "data": {
            "text/plain": [
              "count    2451.000000\n",
              "mean        4.839657\n",
              "std         8.789929\n",
              "min         0.000000\n",
              "25%         0.000000\n",
              "50%         0.000000\n",
              "75%         6.000000\n",
              "max        66.000000\n",
              "Name: visits, dtype: float64"
            ]
          },
          "metadata": {
            "tags": []
          },
          "execution_count": 43
        }
      ]
    },
    {
      "cell_type": "code",
      "metadata": {
        "colab": {
          "base_uri": "https://localhost:8080/"
        },
        "id": "hn1xfo1rEb4N",
        "outputId": "7cef4111-d41a-42dc-f1c1-d7380e804eef"
      },
      "source": [
        "series_2.describe()"
      ],
      "execution_count": null,
      "outputs": [
        {
          "output_type": "execute_result",
          "data": {
            "text/plain": [
              "count    2549.000000\n",
              "mean        4.553943\n",
              "std         8.147190\n",
              "min         0.000000\n",
              "25%         0.000000\n",
              "50%         0.000000\n",
              "75%         6.000000\n",
              "max        70.000000\n",
              "Name: visits, dtype: float64"
            ]
          },
          "metadata": {
            "tags": []
          },
          "execution_count": 44
        }
      ]
    },
    {
      "cell_type": "markdown",
      "metadata": {
        "id": "bItSlvLREta4"
      },
      "source": [
        "Среднее количество успешных целевых сессий сократилось для экспериментальной группы."
      ]
    },
    {
      "cell_type": "code",
      "metadata": {
        "colab": {
          "base_uri": "https://localhost:8080/"
        },
        "id": "aiENK4CRFEcm",
        "outputId": "e56d579c-17ed-4ed8-c368-4173337dda48"
      },
      "source": [
        "sns.displot(df_byuser, x=\"visits\", hue=\"group\", palette='Set1')\n",
        "plt.figure(figsize=(10,5))\n",
        "sns.boxplot(y=\"group\", x=\"visits\", hue=\"group\", data = df_byuser , orient=\"h\", palette = 'Set1')"
      ],
      "execution_count": null,
      "outputs": [
        {
          "output_type": "execute_result",
          "data": {
            "text/plain": [
              "<matplotlib.axes._subplots.AxesSubplot at 0x7f41ba436b70>"
            ]
          },
          "metadata": {
            "tags": []
          },
          "execution_count": 63
        },
        {
          "output_type": "display_data",
          "data": {
            "image/png": "[encoded data removed]",
            "text/plain": [
              "<Figure size 402.875x360 with 1 Axes>"
            ]
          },
          "metadata": {
            "tags": [],
            "needs_background": "light"
          }
        },
        {
          "output_type": "display_data",
          "data": {
            "image/png": "[encoded data removed]",
            "text/plain": [
              "<Figure size 720x360 with 1 Axes>"
            ]
          },
          "metadata": {
            "tags": [],
            "needs_background": "light"
          }
        }
      ]
    },
    {
      "cell_type": "markdown",
      "metadata": {
        "id": "-k15gUFu_vCp"
      },
      "source": [
        "## Проведем исследование количества сессий, не закончившихся успешным целевым действием."
      ]
    },
    {
      "cell_type": "markdown",
      "metadata": {
        "id": "ahA9UdHs4vJS"
      },
      "source": [
        "Исследуем равнозначность дисперсий с помощью критерия Левена."
      ]
    },
    {
      "cell_type": "code",
      "metadata": {
        "colab": {
          "base_uri": "https://localhost:8080/"
        },
        "id": "_pt2oapC_7ST",
        "outputId": "fabb9875-c3cd-44d6-f4a6-7f5709952a66"
      },
      "source": [
        "alpha = 0.05\n",
        "\n",
        "def levene_test(df1, df2, p_value = alpha):\n",
        "  st = levene(df1, df2)\n",
        "  print('Variances of distributions is {}equal\\n'.format( {True:'not ', False:''}[st[1] < p_value]))\n",
        "\n",
        "series_1 = df_byuser.loc[df_byuser.group == 'A']['churn_visits']\n",
        "series_2 = df_byuser.loc[df_byuser.group == 'B']['churn_visits']\n",
        "\n",
        "levene_test(series_1, series_2)"
      ],
      "execution_count": null,
      "outputs": [
        {
          "output_type": "stream",
          "text": [
            "Variances of distributions is equal\n",
            "\n"
          ],
          "name": "stdout"
        }
      ]
    },
    {
      "cell_type": "markdown",
      "metadata": {
        "id": "MvPc0xQd44sY"
      },
      "source": [
        "Проверям на нормальность с помощью критерия Колмогорова-Смирнова."
      ]
    },
    {
      "cell_type": "code",
      "metadata": {
        "colab": {
          "base_uri": "https://localhost:8080/"
        },
        "id": "gD_CRPAYAEua",
        "outputId": "cfd61af7-a521-4393-9798-6ff087dbe1cc"
      },
      "source": [
        "st = kstest(pd.Series(series_1), 'norm')\n",
        "print('Distributions A is {}normal\\n'.format( {True:'not ', False:''}[st[1] < alpha]))\n",
        "st = kstest(pd.Series(series_2), 'norm')\n",
        "print('Distributions B is {}normal\\n'.format( {True:'not ', False:''}[st[1] < alpha]))"
      ],
      "execution_count": null,
      "outputs": [
        {
          "output_type": "stream",
          "text": [
            "Distributions A is not normal\n",
            "\n",
            "Distributions B is not normal\n",
            "\n"
          ],
          "name": "stdout"
        }
      ]
    },
    {
      "cell_type": "markdown",
      "metadata": {
        "id": "7xBvzcq948zZ"
      },
      "source": [
        "Оцениваем статистическую значимость различий с помощью метода Краскела-Уоллиса. "
      ]
    },
    {
      "cell_type": "code",
      "metadata": {
        "colab": {
          "base_uri": "https://localhost:8080/"
        },
        "id": "57OvC2BQANrX",
        "outputId": "1ce6ff55-30c2-4d71-8307-33e4e4d5f420"
      },
      "source": [
        "st = kruskal(pd.Series(series_1), pd.Series(series_2))\n",
        "print('Diffs is {}significant\\n'.format( {True:'not ', False:''}[st[1] < alpha]))"
      ],
      "execution_count": null,
      "outputs": [
        {
          "output_type": "stream",
          "text": [
            "Diffs is significant\n",
            "\n"
          ],
          "name": "stdout"
        }
      ]
    },
    {
      "cell_type": "markdown",
      "metadata": {
        "id": "oteUCadTGIoh"
      },
      "source": [
        "Различия между группами статистически значимы, посмотрим, как именно:"
      ]
    },
    {
      "cell_type": "code",
      "metadata": {
        "colab": {
          "base_uri": "https://localhost:8080/"
        },
        "id": "L46-t8JOGPeL",
        "outputId": "ff69ea83-7014-4d12-8efb-8df6031143fb"
      },
      "source": [
        "series_1.describe()"
      ],
      "execution_count": null,
      "outputs": [
        {
          "output_type": "execute_result",
          "data": {
            "text/plain": [
              "count    2451.000000\n",
              "mean        6.929417\n",
              "std         1.944200\n",
              "min         0.000000\n",
              "25%         6.000000\n",
              "50%         7.000000\n",
              "75%         9.000000\n",
              "max         9.000000\n",
              "Name: churn_visits, dtype: float64"
            ]
          },
          "metadata": {
            "tags": []
          },
          "execution_count": 82
        }
      ]
    },
    {
      "cell_type": "code",
      "metadata": {
        "colab": {
          "base_uri": "https://localhost:8080/"
        },
        "id": "HkzwCxTqGfL4",
        "outputId": "bf8fb157-932e-46a6-e5e8-8ea8967d56c8"
      },
      "source": [
        "series_2.describe()"
      ],
      "execution_count": null,
      "outputs": [
        {
          "output_type": "execute_result",
          "data": {
            "text/plain": [
              "count    2549.000000\n",
              "mean        6.980384\n",
              "std         1.930404\n",
              "min         0.000000\n",
              "25%         6.000000\n",
              "50%         7.000000\n",
              "75%         9.000000\n",
              "max         9.000000\n",
              "Name: churn_visits, dtype: float64"
            ]
          },
          "metadata": {
            "tags": []
          },
          "execution_count": 83
        }
      ]
    },
    {
      "cell_type": "markdown",
      "metadata": {
        "id": "UqX1YdO-GiuX"
      },
      "source": [
        "Среднее количество сессий, не завершившихся целевым действием увеличилось для экспериментальной группы."
      ]
    },
    {
      "cell_type": "code",
      "metadata": {
        "colab": {
          "base_uri": "https://localhost:8080/"
        },
        "id": "zo-33xpXHQND",
        "outputId": "60dbcccd-e669-4f6d-eef5-783fcddd65ec"
      },
      "source": [
        "sns.displot(df_byuser, x=\"churn_visits\", hue=\"group\", palette='Set1')\n",
        "plt.figure(figsize=(10,5))\n",
        "sns.boxplot(y=\"group\", x=\"churn_visits\", hue=\"group\", data = df_byuser , orient=\"h\", palette = 'Set1')"
      ],
      "execution_count": null,
      "outputs": [
        {
          "output_type": "execute_result",
          "data": {
            "text/plain": [
              "<matplotlib.axes._subplots.AxesSubplot at 0x7f41bb0a9518>"
            ]
          },
          "metadata": {
            "tags": []
          },
          "execution_count": 84
        },
        {
          "output_type": "display_data",
          "data": {
            "image/png": "[encoded data removed]",
            "text/plain": [
              "<Figure size 402.875x360 with 1 Axes>"
            ]
          },
          "metadata": {
            "tags": [],
            "needs_background": "light"
          }
        },
        {
          "output_type": "display_data",
          "data": {
            "image/png": "[encoded data removed]",
            "text/plain": [
              "<Figure size 720x360 with 1 Axes>"
            ]
          },
          "metadata": {
            "tags": [],
            "needs_background": "light"
          }
        }
      ]
    },
    {
      "cell_type": "markdown",
      "metadata": {
        "id": "3LopY2-3Lf0s"
      },
      "source": [
        "## Исследование для количества пользователей, не совершивших целевое действие."
      ]
    },
    {
      "cell_type": "code",
      "metadata": {
        "colab": {
          "base_uri": "https://localhost:8080/",
          "height": 195
        },
        "id": "8--t2ZAzLpWR",
        "outputId": "306de73f-3c6d-48f9-ae84-dfc9b3b173c3"
      },
      "source": [
        "df_bybucket['group'] = df_bybucket.apply(lambda x: 'A' if x.group_id <= 8 else 'B', axis=1)\n",
        "df_bybucket.head()"
      ],
      "execution_count": null,
      "outputs": [
        {
          "output_type": "execute_result",
          "data": {
            "text/html": [
              "<div>\n",
              "<style scoped>\n",
              "    .dataframe tbody tr th:only-of-type {\n",
              "        vertical-align: middle;\n",
              "    }\n",
              "\n",
              "    .dataframe tbody tr th {\n",
              "        vertical-align: top;\n",
              "    }\n",
              "\n",
              "    .dataframe thead th {\n",
              "        text-align: right;\n",
              "    }\n",
              "</style>\n",
              "<table border=\"1\" class=\"dataframe\">\n",
              "  <thead>\n",
              "    <tr style=\"text-align: right;\">\n",
              "      <th></th>\n",
              "      <th>group_id</th>\n",
              "      <th>metric_value</th>\n",
              "      <th>users</th>\n",
              "      <th>visits</th>\n",
              "      <th>churn_users</th>\n",
              "      <th>churn_visits</th>\n",
              "      <th>group</th>\n",
              "    </tr>\n",
              "  </thead>\n",
              "  <tbody>\n",
              "    <tr>\n",
              "      <th>0</th>\n",
              "      <td>1</td>\n",
              "      <td>1875345.0</td>\n",
              "      <td>155</td>\n",
              "      <td>1419</td>\n",
              "      <td>151</td>\n",
              "      <td>2207</td>\n",
              "      <td>A</td>\n",
              "    </tr>\n",
              "    <tr>\n",
              "      <th>1</th>\n",
              "      <td>2</td>\n",
              "      <td>1662237.0</td>\n",
              "      <td>138</td>\n",
              "      <td>1320</td>\n",
              "      <td>127</td>\n",
              "      <td>1853</td>\n",
              "      <td>A</td>\n",
              "    </tr>\n",
              "    <tr>\n",
              "      <th>2</th>\n",
              "      <td>3</td>\n",
              "      <td>1784372.0</td>\n",
              "      <td>128</td>\n",
              "      <td>1281</td>\n",
              "      <td>159</td>\n",
              "      <td>2032</td>\n",
              "      <td>A</td>\n",
              "    </tr>\n",
              "    <tr>\n",
              "      <th>3</th>\n",
              "      <td>4</td>\n",
              "      <td>1876826.0</td>\n",
              "      <td>163</td>\n",
              "      <td>1644</td>\n",
              "      <td>168</td>\n",
              "      <td>2172</td>\n",
              "      <td>A</td>\n",
              "    </tr>\n",
              "    <tr>\n",
              "      <th>4</th>\n",
              "      <td>5</td>\n",
              "      <td>1913180.0</td>\n",
              "      <td>156</td>\n",
              "      <td>1675</td>\n",
              "      <td>174</td>\n",
              "      <td>2273</td>\n",
              "      <td>A</td>\n",
              "    </tr>\n",
              "  </tbody>\n",
              "</table>\n",
              "</div>"
            ],
            "text/plain": [
              "   group_id  metric_value  users  visits  churn_users  churn_visits group\n",
              "0         1     1875345.0    155    1419          151          2207     A\n",
              "1         2     1662237.0    138    1320          127          1853     A\n",
              "2         3     1784372.0    128    1281          159          2032     A\n",
              "3         4     1876826.0    163    1644          168          2172     A\n",
              "4         5     1913180.0    156    1675          174          2273     A"
            ]
          },
          "metadata": {
            "tags": []
          },
          "execution_count": 7
        }
      ]
    },
    {
      "cell_type": "code",
      "metadata": {
        "id": "RyyhKBjuMBbM"
      },
      "source": [
        "series_1 = df_bybucket.loc[df_bybucket.group == 'A']['churn_users']\n",
        "series_2 = df_bybucket.loc[df_bybucket.group == 'B']['churn_users']"
      ],
      "execution_count": null,
      "outputs": []
    },
    {
      "cell_type": "markdown",
      "metadata": {
        "id": "mDtnuPOAReEX"
      },
      "source": [
        "Исслеудем на нормальность с помощью критерия Шапиро: "
      ]
    },
    {
      "cell_type": "code",
      "metadata": {
        "colab": {
          "base_uri": "https://localhost:8080/"
        },
        "id": "-eclgI0QO6br",
        "outputId": "2240cb3c-3a65-4a3e-a9af-2b3b4c93da56"
      },
      "source": [
        "alpha = 0.05\n",
        "\n",
        "st = shapiro(pd.Series(series_1))\n",
        "print('Distribution A is {}normal\\n'.format( {True:'not ',False:''}[st[1] < alpha]))\n",
        "st = shapiro(pd.Series(series_2))\n",
        "print('Distribution B is {}normal\\n'.format( {True:'not ',False:''}[st[1] < alpha]))"
      ],
      "execution_count": null,
      "outputs": [
        {
          "output_type": "stream",
          "text": [
            "Distribution A is normal\n",
            "\n",
            "Distribution B is normal\n",
            "\n"
          ],
          "name": "stdout"
        }
      ]
    },
    {
      "cell_type": "markdown",
      "metadata": {
        "id": "Eq-lz8LbWBmz"
      },
      "source": [
        "Распределения имеют нормальный вид. Для проверки равенства дисперсий восолпьзуемся F-критерием Фишера: параметрический, основан на предположении о равенстве выборок нормальному закону."
      ]
    },
    {
      "cell_type": "code",
      "metadata": {
        "colab": {
          "base_uri": "https://localhost:8080/"
        },
        "id": "eoeQG5I4UTOB",
        "outputId": "87658d5e-1bad-46bc-e368-c38b6e6e7100"
      },
      "source": [
        "alpha = 0.05\n",
        "p_value = f_oneway(series_1, series_2)[1]\n",
        "print('{} the H0: Var(X1) == Var(X2)\\n'.format({True:'Reject', False:'Confirm'}[p_value > alpha]))"
      ],
      "execution_count": null,
      "outputs": [
        {
          "output_type": "stream",
          "text": [
            "Confirm the H0: Var(X1) == Var(X2)\n",
            "\n"
          ],
          "name": "stdout"
        }
      ]
    },
    {
      "cell_type": "markdown",
      "metadata": {
        "id": "J_osL_BuWmmL"
      },
      "source": [
        "Выборки имеют вид нормального распределения и равенство дисперсий. Для оценки статистической значимости различий воспользуемся t-критерием Стьюдента."
      ]
    },
    {
      "cell_type": "code",
      "metadata": {
        "colab": {
          "base_uri": "https://localhost:8080/"
        },
        "id": "O3zMs_tDdBaP",
        "outputId": "b41681e9-cb79-41de-88e6-4ac6fd505f38"
      },
      "source": [
        "alpha = 0.05\n",
        "\n",
        "st = ttest_ind(series_1, series_2)\n",
        "print('Diffs is {}significant\\n'.format({True:'not ',False:''}[st[1] < alpha]))"
      ],
      "execution_count": null,
      "outputs": [
        {
          "output_type": "stream",
          "text": [
            "Diffs is not significant\n",
            "\n"
          ],
          "name": "stdout"
        }
      ]
    },
    {
      "cell_type": "markdown",
      "metadata": {
        "id": "PxREjxYed3db"
      },
      "source": [
        "Разница статистически не значима. Достоверны ли выводы для данного объема выборки?"
      ]
    },
    {
      "cell_type": "code",
      "metadata": {
        "colab": {
          "base_uri": "https://localhost:8080/"
        },
        "id": "MFBt3atreXRK",
        "outputId": "c8ae77a1-c0a5-4657-f588-15f35e7044aa"
      },
      "source": [
        "effect = 0.8\n",
        "alpha = 0.05\n",
        "power = 0.8\n",
        "\n",
        "analysis = TTestIndPower()\n",
        "result = analysis.solve_power(effect, power=power, nobs1=None, ratio=1, alpha=alpha)\n",
        "print('Sample Size: %.3f' % result)"
      ],
      "execution_count": null,
      "outputs": [
        {
          "output_type": "stream",
          "text": [
            "Sample Size: 25.525\n"
          ],
          "name": "stdout"
        }
      ]
    },
    {
      "cell_type": "markdown",
      "metadata": {
        "id": "KHXl5d4Ra-EU"
      },
      "source": [
        "Имеющиеся выборка размером 16. Нам нужна выборка большего размера - хотя бы 25 значений."
      ]
    },
    {
      "cell_type": "code",
      "metadata": {
        "colab": {
          "base_uri": "https://localhost:8080/",
          "height": 704
        },
        "id": "4LcN_xYqijrO",
        "outputId": "66f4f445-0932-46ae-d687-3d49cfd4c594"
      },
      "source": [
        "sns.displot(df_bybucket, x=\"churn_users\", hue=\"group\", palette='Set1')\n",
        "plt.figure(figsize=(10,5))\n",
        "sns.boxplot(y=\"group\", x=\"churn_users\", hue=\"group\", data = df_bybucket , orient=\"h\", palette = 'Set1')"
      ],
      "execution_count": null,
      "outputs": [
        {
          "output_type": "execute_result",
          "data": {
            "text/plain": [
              "<matplotlib.axes._subplots.AxesSubplot at 0x7f41baa010b8>"
            ]
          },
          "metadata": {
            "tags": []
          },
          "execution_count": 172
        },
        {
          "output_type": "display_data",
          "data": {
            "image/png": "[encoded data removed]",
            "text/plain": [
              "<Figure size 402.875x360 with 1 Axes>"
            ]
          },
          "metadata": {
            "tags": [],
            "needs_background": "light"
          }
        },
        {
          "output_type": "display_data",
          "data": {
            "image/png": "[encoded data removed]",
            "text/plain": [
              "<Figure size 720x360 with 1 Axes>"
            ]
          },
          "metadata": {
            "tags": [],
            "needs_background": "light"
          }
        }
      ]
    }
  ]
}