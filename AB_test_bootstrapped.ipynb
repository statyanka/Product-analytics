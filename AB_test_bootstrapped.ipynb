{
  "nbformat": 4,
  "nbformat_minor": 0,
  "metadata": {
    "colab": {
      "name": "AB test bootstrapped.ipynb",
      "provenance": [],
      "collapsed_sections": [
        "VgyUuzKlSRi6"
      ],
      "toc_visible": true,
      "authorship_tag": "ABX9TyO0tXa9ywvdAz0Q8Yx87UbS",
      "include_colab_link": true
    },
    "kernelspec": {
      "name": "python3",
      "display_name": "Python 3"
    }
  },
  "cells": [
    {
      "cell_type": "markdown",
      "metadata": {
        "id": "view-in-github",
        "colab_type": "text"
      },
      "source": [
        "<a href=\"https://colab.research.google.com/github/statyanka/Product-analytics/blob/main/AB_test_bootstrapped.ipynb\" target=\"_parent\"><img src=\"https://colab.research.google.com/assets/colab-badge.svg\" alt=\"Open In Colab\"/></a>"
      ]
    },
    {
      "cell_type": "markdown",
      "metadata": {
        "id": "VgyUuzKlSRi6"
      },
      "source": [
        "## Введение "
      ]
    },
    {
      "cell_type": "code",
      "metadata": {
        "id": "IBiD5RbPE8P1"
      },
      "source": [
        "pip install bootstrapped"
      ],
      "execution_count": null,
      "outputs": []
    },
    {
      "cell_type": "code",
      "metadata": {
        "id": "svBayFW_CWBN"
      },
      "source": [
        "import pandas as pd\n",
        "import numpy as np\n",
        "import matplotlib.pyplot as plt\n",
        "import seaborn as sns\n",
        "from scipy.stats import levene\n",
        "from scipy.stats import kstest\n",
        "from scipy.stats import kruskal\n",
        "from scipy.stats import shapiro\n",
        "from scipy.stats import ttest_ind\n",
        "from scipy.stats import f_oneway\n",
        "from statsmodels.stats.power import TTestIndPower\n",
        "from bootstrapped import bootstrap as bs\n",
        "from bootstrapped import compare_functions as bs_compare\n",
        "from bootstrapped import stats_functions as bs_stats"
      ],
      "execution_count": null,
      "outputs": []
    },
    {
      "cell_type": "markdown",
      "metadata": {
        "id": "HDcsmFycIogk"
      },
      "source": [
        "Читаем данные и выводим их часть на экран:"
      ]
    },
    {
      "cell_type": "code",
      "metadata": {
        "colab": {
          "base_uri": "https://localhost:8080/"
        },
        "id": "IfmrSeEHo_rV",
        "outputId": "2ad9a775-6421-4b28-cb5c-ded551068a73"
      },
      "source": [
        "df_byuser = pd.read_csv('/content/hw_abt_2_byuser.csv', sep='\\t')\n",
        "df_byuser.head()"
      ],
      "execution_count": null,
      "outputs": [
        {
          "output_type": "execute_result",
          "data": {
            "text/html": [
              "<div>\n",
              "<style scoped>\n",
              "    .dataframe tbody tr th:only-of-type {\n",
              "        vertical-align: middle;\n",
              "    }\n",
              "\n",
              "    .dataframe tbody tr th {\n",
              "        vertical-align: top;\n",
              "    }\n",
              "\n",
              "    .dataframe thead th {\n",
              "        text-align: right;\n",
              "    }\n",
              "</style>\n",
              "<table border=\"1\" class=\"dataframe\">\n",
              "  <thead>\n",
              "    <tr style=\"text-align: right;\">\n",
              "      <th></th>\n",
              "      <th>Unnamed: 0</th>\n",
              "      <th>group_id</th>\n",
              "      <th>metric_value</th>\n",
              "      <th>users</th>\n",
              "      <th>visits</th>\n",
              "      <th>churn_users</th>\n",
              "      <th>churn_visits</th>\n",
              "      <th>group</th>\n",
              "    </tr>\n",
              "  </thead>\n",
              "  <tbody>\n",
              "    <tr>\n",
              "      <th>0</th>\n",
              "      <td>0</td>\n",
              "      <td>8</td>\n",
              "      <td>6630.000</td>\n",
              "      <td>0</td>\n",
              "      <td>0</td>\n",
              "      <td>0</td>\n",
              "      <td>8</td>\n",
              "      <td>A</td>\n",
              "    </tr>\n",
              "    <tr>\n",
              "      <th>1</th>\n",
              "      <td>1</td>\n",
              "      <td>13</td>\n",
              "      <td>6933.976</td>\n",
              "      <td>0</td>\n",
              "      <td>0</td>\n",
              "      <td>1</td>\n",
              "      <td>6</td>\n",
              "      <td>B</td>\n",
              "    </tr>\n",
              "    <tr>\n",
              "      <th>2</th>\n",
              "      <td>2</td>\n",
              "      <td>10</td>\n",
              "      <td>8261.976</td>\n",
              "      <td>1</td>\n",
              "      <td>10</td>\n",
              "      <td>1</td>\n",
              "      <td>8</td>\n",
              "      <td>B</td>\n",
              "    </tr>\n",
              "    <tr>\n",
              "      <th>3</th>\n",
              "      <td>3</td>\n",
              "      <td>4</td>\n",
              "      <td>5522.000</td>\n",
              "      <td>1</td>\n",
              "      <td>9</td>\n",
              "      <td>1</td>\n",
              "      <td>7</td>\n",
              "      <td>A</td>\n",
              "    </tr>\n",
              "    <tr>\n",
              "      <th>4</th>\n",
              "      <td>4</td>\n",
              "      <td>16</td>\n",
              "      <td>5075.976</td>\n",
              "      <td>1</td>\n",
              "      <td>6</td>\n",
              "      <td>0</td>\n",
              "      <td>8</td>\n",
              "      <td>B</td>\n",
              "    </tr>\n",
              "  </tbody>\n",
              "</table>\n",
              "</div>"
            ],
            "text/plain": [
              "   Unnamed: 0  group_id  metric_value  ...  churn_users  churn_visits  group\n",
              "0           0         8      6630.000  ...            0             8      A\n",
              "1           1        13      6933.976  ...            1             6      B\n",
              "2           2        10      8261.976  ...            1             8      B\n",
              "3           3         4      5522.000  ...            1             7      A\n",
              "4           4        16      5075.976  ...            0             8      B\n",
              "\n",
              "[5 rows x 8 columns]"
            ]
          },
          "metadata": {
            "tags": []
          },
          "execution_count": 16
        }
      ]
    },
    {
      "cell_type": "code",
      "metadata": {
        "colab": {
          "base_uri": "https://localhost:8080/"
        },
        "id": "M0lilLD5pwkK",
        "outputId": "bd89cb23-0cf1-435b-e0a2-be2b0d2b7694"
      },
      "source": [
        "df_bybucket = pd.read_csv('/content/hw_abt_2_bybucket.csv', sep='\\t')\n",
        "df_bybucket.head()"
      ],
      "execution_count": null,
      "outputs": [
        {
          "output_type": "execute_result",
          "data": {
            "text/html": [
              "<div>\n",
              "<style scoped>\n",
              "    .dataframe tbody tr th:only-of-type {\n",
              "        vertical-align: middle;\n",
              "    }\n",
              "\n",
              "    .dataframe tbody tr th {\n",
              "        vertical-align: top;\n",
              "    }\n",
              "\n",
              "    .dataframe thead th {\n",
              "        text-align: right;\n",
              "    }\n",
              "</style>\n",
              "<table border=\"1\" class=\"dataframe\">\n",
              "  <thead>\n",
              "    <tr style=\"text-align: right;\">\n",
              "      <th></th>\n",
              "      <th>group_id</th>\n",
              "      <th>metric_value</th>\n",
              "      <th>users</th>\n",
              "      <th>visits</th>\n",
              "      <th>churn_users</th>\n",
              "      <th>churn_visits</th>\n",
              "    </tr>\n",
              "  </thead>\n",
              "  <tbody>\n",
              "    <tr>\n",
              "      <th>0</th>\n",
              "      <td>1</td>\n",
              "      <td>1875345.0</td>\n",
              "      <td>155</td>\n",
              "      <td>1419</td>\n",
              "      <td>151</td>\n",
              "      <td>2207</td>\n",
              "    </tr>\n",
              "    <tr>\n",
              "      <th>1</th>\n",
              "      <td>2</td>\n",
              "      <td>1662237.0</td>\n",
              "      <td>138</td>\n",
              "      <td>1320</td>\n",
              "      <td>127</td>\n",
              "      <td>1853</td>\n",
              "    </tr>\n",
              "    <tr>\n",
              "      <th>2</th>\n",
              "      <td>3</td>\n",
              "      <td>1784372.0</td>\n",
              "      <td>128</td>\n",
              "      <td>1281</td>\n",
              "      <td>159</td>\n",
              "      <td>2032</td>\n",
              "    </tr>\n",
              "    <tr>\n",
              "      <th>3</th>\n",
              "      <td>4</td>\n",
              "      <td>1876826.0</td>\n",
              "      <td>163</td>\n",
              "      <td>1644</td>\n",
              "      <td>168</td>\n",
              "      <td>2172</td>\n",
              "    </tr>\n",
              "    <tr>\n",
              "      <th>4</th>\n",
              "      <td>5</td>\n",
              "      <td>1913180.0</td>\n",
              "      <td>156</td>\n",
              "      <td>1675</td>\n",
              "      <td>174</td>\n",
              "      <td>2273</td>\n",
              "    </tr>\n",
              "  </tbody>\n",
              "</table>\n",
              "</div>"
            ],
            "text/plain": [
              "   group_id  metric_value  users  visits  churn_users  churn_visits\n",
              "0         1     1875345.0    155    1419          151          2207\n",
              "1         2     1662237.0    138    1320          127          1853\n",
              "2         3     1784372.0    128    1281          159          2032\n",
              "3         4     1876826.0    163    1644          168          2172\n",
              "4         5     1913180.0    156    1675          174          2273"
            ]
          },
          "metadata": {
            "tags": []
          },
          "execution_count": 17
        }
      ]
    },
    {
      "cell_type": "markdown",
      "metadata": {
        "id": "3C7nsIXxD-Ve"
      },
      "source": [
        "## Проведем исследование количества успешных целевых сессий. "
      ]
    },
    {
      "cell_type": "code",
      "metadata": {
        "id": "s1H7UnkMO3t2"
      },
      "source": [
        "series_1 = df_byuser.loc[df_byuser.group == 'A']['visits']\n",
        "series_2 = df_byuser.loc[df_byuser.group == 'B']['visits']"
      ],
      "execution_count": null,
      "outputs": []
    },
    {
      "cell_type": "markdown",
      "metadata": {
        "id": "3tzIIzGt27pC"
      },
      "source": [
        "Проверям на нормальность с помощью критерия Шапиро. "
      ]
    },
    {
      "cell_type": "code",
      "metadata": {
        "colab": {
          "base_uri": "https://localhost:8080/"
        },
        "id": "PGIDy3eS7g2_",
        "outputId": "7c597593-38ce-4df5-eb26-b06914140ad0"
      },
      "source": [
        "alpha = 0.05\n",
        "st = shapiro(pd.Series(series_1))\n",
        "print('Distribution A is {}normal\\n'.format( {True:'not ',False:''}[st[1] < alpha]))\n",
        "st = shapiro(pd.Series(series_2))\n",
        "print('Distribution B is {}normal\\n'.format( {True:'not ',False:''}[st[1] < alpha]))"
      ],
      "execution_count": null,
      "outputs": [
        {
          "output_type": "stream",
          "text": [
            "Distribution A is not normal\n",
            "\n",
            "Distribution B is not normal\n",
            "\n"
          ],
          "name": "stdout"
        }
      ]
    },
    {
      "cell_type": "markdown",
      "metadata": {
        "id": "S_9X2IAuDvTx"
      },
      "source": [
        "Оценим статистическую значимость различий исследуемых метрик в\n",
        "выборках при помощи библиотеки bootstrapped."
      ]
    },
    {
      "cell_type": "code",
      "metadata": {
        "colab": {
          "base_uri": "https://localhost:8080/"
        },
        "id": "7QEaC4Xc2LR5",
        "outputId": "540f618a-0124-4123-cf39-5f43d4109915"
      },
      "source": [
        "bs_a = bs.bootstrap(series_1.values, stat_func=bs_stats.mean, \n",
        "             num_iterations=1000, iteration_batch_size=20, \n",
        "             return_distribution=True)\n",
        "\n",
        "bs_b = bs.bootstrap(series_2.values, stat_func=bs_stats.mean, \n",
        "             num_iterations=1000, iteration_batch_size=20, \n",
        "             return_distribution=True)\n",
        "\n",
        "plt.figure(figsize=(10,5))\n",
        "plt.hist([bs_a, bs_b], bins = 30, label=['Group a', 'Group b'])\n",
        "plt.legend(loc='upper left')\n",
        "plt.show()"
      ],
      "execution_count": null,
      "outputs": [
        {
          "output_type": "display_data",
          "data": {
            "image/png": "[encoded data removed]",
            "text/plain": [
              "<Figure size 720x360 with 1 Axes>"
            ]
          },
          "metadata": {
            "tags": [],
            "needs_background": "light"
          }
        }
      ]
    },
    {
      "cell_type": "code",
      "metadata": {
        "colab": {
          "base_uri": "https://localhost:8080/"
        },
        "id": "ZxzcJD3BNILj",
        "outputId": "df108eef-6c8e-4535-85c2-ea1629b06441"
      },
      "source": [
        "plt.figure(figsize=(10,5))\n",
        "plt.boxplot([bs_a, bs_b])\n",
        "labels=['Group a', 'Group b']\n",
        "plt.xticks(np.arange(len(labels))+1,labels)\n",
        "plt.show()"
      ],
      "execution_count": null,
      "outputs": [
        {
          "output_type": "display_data",
          "data": {
            "image/png": "[encoded data removed]",
            "text/plain": [
              "<Figure size 720x360 with 1 Axes>"
            ]
          },
          "metadata": {
            "tags": [],
            "needs_background": "light"
          }
        }
      ]
    },
    {
      "cell_type": "markdown",
      "metadata": {
        "id": "4TAw9WcYJ1j1"
      },
      "source": [
        "Проверим распределения на нормальность с помощью критерия Шапиро."
      ]
    },
    {
      "cell_type": "code",
      "metadata": {
        "colab": {
          "base_uri": "https://localhost:8080/"
        },
        "id": "_U7UbLqQJ6Sb",
        "outputId": "a8984c52-bf6e-455e-a855-f5a69b237d48"
      },
      "source": [
        "alpha = 0.05\n",
        "st = shapiro(pd.Series(bs_a))\n",
        "print('Distribution A is {}normal\\n'.format( {True:'not ',False:''}[st[1] < alpha]))\n",
        "st = shapiro(pd.Series(bs_b))\n",
        "print('Distribution B is {}normal\\n'.format( {True:'not ',False:''}[st[1] < alpha]))"
      ],
      "execution_count": null,
      "outputs": [
        {
          "output_type": "stream",
          "text": [
            "Distribution A is normal\n",
            "\n",
            "Distribution B is normal\n",
            "\n"
          ],
          "name": "stdout"
        }
      ]
    },
    {
      "cell_type": "markdown",
      "metadata": {
        "id": "2zyUWazXK7kg"
      },
      "source": [
        "Распределения нормальны! Наконец-то. Для проверки равенства дисперсий восолпьзуемся F-критерием Фишера: параметрический, основан на предположении о равенстве выборок нормальному закону."
      ]
    },
    {
      "cell_type": "code",
      "metadata": {
        "colab": {
          "base_uri": "https://localhost:8080/"
        },
        "id": "_akscjM_LoyN",
        "outputId": "6d0ee1bb-632b-4818-d3f2-507e4a1b11e4"
      },
      "source": [
        "alpha = 0.05\n",
        "p_value = f_oneway(bs_a, bs_b)[1]\n",
        "print('{} the H0: Var(X1) == Var(X2)\\n'.format({True:'Reject', False:'Confirm'}[p_value > alpha]))"
      ],
      "execution_count": null,
      "outputs": [
        {
          "output_type": "stream",
          "text": [
            "Confirm the H0: Var(X1) == Var(X2)\n",
            "\n"
          ],
          "name": "stdout"
        }
      ]
    },
    {
      "cell_type": "markdown",
      "metadata": {
        "id": "wwINeVrKMP5f"
      },
      "source": [
        "Выборки имеют вид нормального распределения и равенство дисперсий. Для оценки статистической значимости различий воспользуемся t-критерием Стьюдента."
      ]
    },
    {
      "cell_type": "code",
      "metadata": {
        "colab": {
          "base_uri": "https://localhost:8080/"
        },
        "id": "5zPG-001Fo9-",
        "outputId": "c92b22fa-70cb-4a99-8d34-44ac51c9f869"
      },
      "source": [
        "from scipy.stats import ttest_ind\n",
        "\n",
        "alpha = 0.05\n",
        "st = ttest_ind(bs_a, bs_b)\n",
        "\n",
        "print('Diffs is {}significant'.format({True: '', False: 'not'}[st[1] < alpha]))"
      ],
      "execution_count": null,
      "outputs": [
        {
          "output_type": "stream",
          "text": [
            "Diffs is significant\n"
          ],
          "name": "stdout"
        }
      ]
    },
    {
      "cell_type": "markdown",
      "metadata": {
        "id": "z5h5rwkKMwcs"
      },
      "source": [
        "Различия в группах статистически значимы. "
      ]
    },
    {
      "cell_type": "markdown",
      "metadata": {
        "id": "NEGYEmx3NpiG"
      },
      "source": [
        "## Проведем исследование количества неуспешных целевых сессий. "
      ]
    },
    {
      "cell_type": "code",
      "metadata": {
        "id": "-P0duwbLOyIc"
      },
      "source": [
        "series_1 = df_byuser.loc[df_byuser.group == 'A']['churn_visits']\n",
        "series_2 = df_byuser.loc[df_byuser.group == 'B']['churn_visits']"
      ],
      "execution_count": null,
      "outputs": []
    },
    {
      "cell_type": "markdown",
      "metadata": {
        "id": "d55aoDvBQKmT"
      },
      "source": [
        "Проверим на нормальность с помощью критерия Шапиро."
      ]
    },
    {
      "cell_type": "code",
      "metadata": {
        "colab": {
          "base_uri": "https://localhost:8080/"
        },
        "id": "xCmBlbgQPgcX",
        "outputId": "7ab67022-554d-434d-b846-be76b7709cf7"
      },
      "source": [
        "alpha = 0.05\n",
        "st = shapiro(pd.Series(series_1))\n",
        "print('Distribution A is {}normal\\n'.format( {True:'not ',False:''}[st[1] < alpha]))\n",
        "st = shapiro(pd.Series(series_2))\n",
        "print('Distribution B is {}normal\\n'.format( {True:'not ',False:''}[st[1] < alpha]))"
      ],
      "execution_count": null,
      "outputs": [
        {
          "output_type": "stream",
          "text": [
            "Distribution A is not normal\n",
            "\n",
            "Distribution B is not normal\n",
            "\n"
          ],
          "name": "stdout"
        }
      ]
    },
    {
      "cell_type": "markdown",
      "metadata": {
        "id": "9pR0Za4qQOxp"
      },
      "source": [
        "Применим библиотеку bootstrapped. "
      ]
    },
    {
      "cell_type": "code",
      "metadata": {
        "colab": {
          "base_uri": "https://localhost:8080/",
          "height": 320
        },
        "id": "nno7W8WbPke6",
        "outputId": "9e3b1137-f3f2-4c39-923d-1b7db3893386"
      },
      "source": [
        "bs_a = bs.bootstrap(series_1.values, stat_func=bs_stats.mean, \n",
        "             num_iterations=5000, iteration_batch_size=300, \n",
        "             return_distribution=True)\n",
        "\n",
        "bs_b = bs.bootstrap(series_2.values, stat_func=bs_stats.mean, \n",
        "             num_iterations=5000, iteration_batch_size=300, \n",
        "             return_distribution=True)\n",
        "\n",
        "plt.figure(figsize=(10,5))\n",
        "plt.hist([bs_a, bs_b], bins = 30, label=['Group a', 'Group b'])\n",
        "plt.legend(loc='upper left')\n",
        "plt.show()"
      ],
      "execution_count": null,
      "outputs": [
        {
          "output_type": "display_data",
          "data": {
            "image/png": "[encoded data removed]",
            "text/plain": [
              "<Figure size 720x360 with 1 Axes>"
            ]
          },
          "metadata": {
            "tags": [],
            "needs_background": "light"
          }
        }
      ]
    },
    {
      "cell_type": "code",
      "metadata": {
        "colab": {
          "base_uri": "https://localhost:8080/",
          "height": 320
        },
        "id": "-KezCXr6PtKO",
        "outputId": "f2b58bb7-311c-4cbc-b67e-9610e58e25ba"
      },
      "source": [
        "plt.figure(figsize=(10,5))\n",
        "plt.boxplot([bs_a, bs_b])\n",
        "labels=['Group a', 'Group b']\n",
        "plt.xticks(np.arange(len(labels))+1,labels)\n",
        "plt.show()"
      ],
      "execution_count": null,
      "outputs": [
        {
          "output_type": "display_data",
          "data": {
            "image/png": "[encoded data removed]",
            "text/plain": [
              "<Figure size 720x360 with 1 Axes>"
            ]
          },
          "metadata": {
            "tags": [],
            "needs_background": "light"
          }
        }
      ]
    },
    {
      "cell_type": "markdown",
      "metadata": {
        "id": "3kuzO2nGQ0tB"
      },
      "source": [
        "Проверим новые выборки на нормальность с помощью критерия Шапиро. "
      ]
    },
    {
      "cell_type": "code",
      "metadata": {
        "colab": {
          "base_uri": "https://localhost:8080/"
        },
        "id": "m7NPezIVPyFT",
        "outputId": "e4a771de-0a18-416d-9bfc-c419f5028e75"
      },
      "source": [
        "alpha = 0.05\n",
        "st = shapiro(pd.Series(bs_a))\n",
        "print('Distribution A is {}normal\\n'.format( {True:'not ',False:''}[st[1] < alpha]))\n",
        "st = shapiro(pd.Series(bs_b))\n",
        "print('Distribution B is {}normal\\n'.format( {True:'not ',False:''}[st[1] < alpha]))"
      ],
      "execution_count": null,
      "outputs": [
        {
          "output_type": "stream",
          "text": [
            "Distribution A is normal\n",
            "\n",
            "Distribution B is normal\n",
            "\n"
          ],
          "name": "stdout"
        }
      ]
    },
    {
      "cell_type": "markdown",
      "metadata": {
        "id": "lgSRn9xzQ4oK"
      },
      "source": [
        "Оценим дисперсии с помощью критерия Фишера. "
      ]
    },
    {
      "cell_type": "code",
      "metadata": {
        "colab": {
          "base_uri": "https://localhost:8080/"
        },
        "id": "Pu6AlpLiP9vd",
        "outputId": "c5c920ec-058e-44b8-a500-122002e10ed8"
      },
      "source": [
        "alpha = 0.05\n",
        "p_value = f_oneway(bs_a, bs_b)[1]\n",
        "print('{} the H0: Var(X1) == Var(X2)\\n'.format({True:'Reject', False:'Confirm'}[p_value > alpha]))"
      ],
      "execution_count": null,
      "outputs": [
        {
          "output_type": "stream",
          "text": [
            "Confirm the H0: Var(X1) == Var(X2)\n",
            "\n"
          ],
          "name": "stdout"
        }
      ]
    },
    {
      "cell_type": "markdown",
      "metadata": {
        "id": "CI2lt-QaQ8YH"
      },
      "source": [
        "Применим t-тест Стьюдента на различие статистически значимых отличий в метриках."
      ]
    },
    {
      "cell_type": "code",
      "metadata": {
        "colab": {
          "base_uri": "https://localhost:8080/"
        },
        "id": "R6SL8LD4QC9t",
        "outputId": "d46e7331-4e74-4ed9-9bbb-010d9f7a8bec"
      },
      "source": [
        "alpha = 0.05\n",
        "st = ttest_ind(bs_a, bs_b)\n",
        "\n",
        "print('Diffs is {}significant'.format({True: '', False: 'not'}[st[1] < alpha]))"
      ],
      "execution_count": null,
      "outputs": [
        {
          "output_type": "stream",
          "text": [
            "Diffs is significant\n"
          ],
          "name": "stdout"
        }
      ]
    },
    {
      "cell_type": "markdown",
      "metadata": {
        "id": "poWb-w6kRJtS"
      },
      "source": [
        "Различия в группах статистически значимы. "
      ]
    }
  ]
}